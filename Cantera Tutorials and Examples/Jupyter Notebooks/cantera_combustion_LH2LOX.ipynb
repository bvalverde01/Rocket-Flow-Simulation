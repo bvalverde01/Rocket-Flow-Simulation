{
 "cells": [
  {
   "cell_type": "code",
   "execution_count": 31,
   "id": "fa1afd4d",
   "metadata": {},
   "outputs": [
    {
     "data": {
      "text/plain": [
       "\"fig, ax = plt.subplots()\\nax.grid()\\nh1 = ax.plot(OFact, Isp)\\nax.set(xlabel='OF Ratio', ylabel='Isp [s]')\\nplt.show()\""
      ]
     },
     "execution_count": 31,
     "metadata": {},
     "output_type": "execute_result"
    }
   ],
   "source": [
    "import cantera as ct\n",
    "import numpy as np\n",
    "import matplotlib.pyplot as plt\n",
    "\n",
    "gas = ct.Solution('gri30.yaml')\n",
    "n = 500\n",
    "fuel = 'H2:2'\n",
    "ox = 'O2:1'\n",
    "P = 7e6\n",
    "Patm = 101325\n",
    "T0 = np.zeros(n)\n",
    "phis = np.zeros(n)\n",
    "gamma = np.zeros(n)\n",
    "Rspec = np.zeros(n)\n",
    "OFact = np.zeros(n)\n",
    "ve = np.zeros(n)\n",
    "Isp = np.zeros(n)\n",
    "g0 = 9.807\n",
    "\n",
    "for i, phi in enumerate((np.linspace(0.1, 5, n))):\n",
    "    gas.set_equivalence_ratio(phi = phi, fuel=fuel, oxidizer=ox)\n",
    "    gas.TP = 298.15, P\n",
    "    gas.equilibrate('HP')\n",
    "    cp = gas.cp_mass\n",
    "    cv = gas.cv_mass\n",
    "    gamma_i = cp / cv\n",
    "    gamma[i] = gamma_i\n",
    "    T0_i = gas.T\n",
    "    T0[i] = T0_i\n",
    "    phis[i] = phi\n",
    "    R_i = cp - cv\n",
    "    Rspec[i] = R_i\n",
    "    exp_term = (Patm / P)**((gamma_i - 1.0) / gamma_i)\n",
    "    ve[i] = np.sqrt( (2 * gamma_i) / (gamma_i - 1.0) * R_i * T0_i * (1.0 - exp_term) )\n",
    "    Isp[i] = ve[i]/g0\n",
    "    #print(Isp[i])\n",
    "\n",
    "OFsto = gas.stoich_air_fuel_ratio('H2:2', 'O2:1')\n",
    "OFact = OFsto/phis\n",
    "\n",
    "'''fig, ax = plt.subplots()\n",
    "h1 = ax.plot(data[:, 1], data[:,3], 'C1', label='$P/P_0$')\n",
    "h2 = ax.plot(data[:, 1], data[:, 2], 'C2', label='$T/T_0$')\n",
    "ax.set(xlabel='Mach Number', ylabel='Temperature / Pressure Ratio', ylim=(0, 1.05))\n",
    "ax2 = ax.twinx()\n",
    "h3 = ax2.plot(data[:, 1], data[:, 0], label='$A/A^*$')\n",
    "ax2.set(ylabel='Area Ratio', ylim=(0, None))\n",
    "ax.legend(handles=[h1[0], h2[0], h3[0]], loc='upper center')\n",
    "plt.show()'''\n",
    "\n",
    "'''fig, ax = plt.subplots()\n",
    "ax.grid()\n",
    "h1 = ax.plot(OFact, Isp)\n",
    "ax.set(xlabel='OF Ratio', ylabel='Isp [s]')\n",
    "plt.show()'''\n",
    "\n"
   ]
  }
 ],
 "metadata": {
  "kernelspec": {
   "display_name": ".venv",
   "language": "python",
   "name": "python3"
  },
  "language_info": {
   "codemirror_mode": {
    "name": "ipython",
    "version": 3
   },
   "file_extension": ".py",
   "mimetype": "text/x-python",
   "name": "python",
   "nbconvert_exporter": "python",
   "pygments_lexer": "ipython3",
   "version": "3.10.12"
  }
 },
 "nbformat": 4,
 "nbformat_minor": 5
}
