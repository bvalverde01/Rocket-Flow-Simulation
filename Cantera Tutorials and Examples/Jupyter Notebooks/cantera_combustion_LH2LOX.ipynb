{
 "cells": [
  {
   "cell_type": "code",
   "execution_count": 18,
   "id": "fa1afd4d",
   "metadata": {},
   "outputs": [],
   "source": [
    "import cantera as ct\n",
    "import numpy as np"
   ]
  },
  {
   "cell_type": "code",
   "execution_count": 19,
   "id": "866d4ec0",
   "metadata": {},
   "outputs": [
    {
     "name": "stdout",
     "output_type": "stream",
     "text": [
      "7.936011904761905\n"
     ]
    }
   ],
   "source": [
    "gas = ct.Solution('gri30.yaml')\n",
    "gas.TP = 288.15, 7e6\n",
    "\n",
    "fuel = 'H2:2'\n",
    "ox = 'O2:1'\n",
    "\n",
    "gas.set_equivalence_ratio(phi = 1.0, fuel=fuel, oxidizer=ox)\n",
    "print(gas.stoich_air_fuel_ratio('H2:2', 'O2:1'))"
   ]
  },
  {
   "cell_type": "code",
   "execution_count": 20,
   "id": "35c43aa0",
   "metadata": {},
   "outputs": [],
   "source": [
    "n = 200\n",
    "phis = np.linspace(0.6, 1.4, n)"
   ]
  }
 ],
 "metadata": {
  "kernelspec": {
   "display_name": ".venv",
   "language": "python",
   "name": "python3"
  },
  "language_info": {
   "codemirror_mode": {
    "name": "ipython",
    "version": 3
   },
   "file_extension": ".py",
   "mimetype": "text/x-python",
   "name": "python",
   "nbconvert_exporter": "python",
   "pygments_lexer": "ipython3",
   "version": "3.10.12"
  }
 },
 "nbformat": 4,
 "nbformat_minor": 5
}
